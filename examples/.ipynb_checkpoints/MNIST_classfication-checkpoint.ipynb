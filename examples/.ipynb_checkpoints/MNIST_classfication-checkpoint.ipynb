{
 "cells": [
  {
   "cell_type": "code",
   "execution_count": 1,
   "id": "7d067846",
   "metadata": {},
   "outputs": [
    {
     "ename": "ModuleNotFoundError",
     "evalue": "No module named 'neura'",
     "output_type": "error",
     "traceback": [
      "\u001b[31m---------------------------------------------------------------------------\u001b[39m",
      "\u001b[31mModuleNotFoundError\u001b[39m                       Traceback (most recent call last)",
      "\u001b[36mCell\u001b[39m\u001b[36m \u001b[39m\u001b[32mIn[1]\u001b[39m\u001b[32m, line 1\u001b[39m\n\u001b[32m----> \u001b[39m\u001b[32m1\u001b[39m \u001b[38;5;28;01mimport\u001b[39;00m\u001b[38;5;250m \u001b[39m\u001b[34;01mneura\u001b[39;00m\n\u001b[32m      2\u001b[39m \u001b[38;5;28;01mimport\u001b[39;00m\u001b[38;5;250m \u001b[39m\u001b[34;01mneura\u001b[39;00m\u001b[34;01m.\u001b[39;00m\u001b[34;01mnn\u001b[39;00m\u001b[38;5;250m \u001b[39m\u001b[38;5;28;01mas\u001b[39;00m\u001b[38;5;250m \u001b[39m\u001b[34;01mnn\u001b[39;00m\n\u001b[32m      3\u001b[39m \u001b[38;5;28;01mimport\u001b[39;00m\u001b[38;5;250m \u001b[39m\u001b[34;01mneura\u001b[39;00m\u001b[34;01m.\u001b[39;00m\u001b[34;01moptim\u001b[39;00m\u001b[38;5;250m \u001b[39m\u001b[38;5;28;01mas\u001b[39;00m\u001b[38;5;250m \u001b[39m\u001b[34;01moptim\u001b[39;00m\n",
      "\u001b[31mModuleNotFoundError\u001b[39m: No module named 'neura'"
     ]
    }
   ],
   "source": [
    "import neura\n",
    "import neura.nn as nn\n",
    "import neura.optim as optim\n",
    "import numpy as np\n",
    "from sklearn.datasets import fetch_openml"
   ]
  },
  {
   "cell_type": "code",
   "execution_count": null,
   "id": "c942d705",
   "metadata": {},
   "outputs": [],
   "source": [
    "class MNISTDataset(Dataset):\n",
    "    def __init__(self, train=True, transform=None):\n",
    "        \"\"\"\n",
    "        Initializes the MNIST dataset.\n",
    "\n",
    "        Args:\n",
    "            train (bool): If True, loads the training data, otherwise loads test data.\n",
    "            transform (callable, optional): Optional transform to be applied on a sample.\n",
    "        \"\"\"\n",
    "        self.transform = transform\n",
    "\n",
    "        # Fetch the data. It's a large download the first time.\n",
    "        print(\"Fetching MNIST dataset...\")\n",
    "        # fetch_openml is a reliable way to get the original MNIST data\n",
    "        mnist = fetch_openml('mnist_784', version=1, as_frame=False, parser='auto')\n",
    "        print(\"Dataset fetched.\")\n",
    "\n",
    "        # The data is in a dictionary-like object\n",
    "        # Images are 784-dimensional vectors (28*28)\n",
    "        # Labels are strings '0', '1', ...\n",
    "        images = mnist.data\n",
    "        labels = mnist.target\n",
    "\n",
    "        # Preprocessing Steps\n",
    "        # 1. Normalize pixel values from [0, 255] to [0, 1.0]\n",
    "        images = images / 255.0\n",
    "        # 2. Convert labels from strings to integers\n",
    "        labels = labels.astype(int)\n",
    "        \n",
    "        # 3. Cast data to a more memory-efficient type if desired\n",
    "        images = images.astype(np.float32)\n",
    "\n",
    "        # Split into training and testing sets (standard MNIST split is 60k/10k)\n",
    "        if train:\n",
    "            self.images = images[:60000]\n",
    "            self.labels = labels[:60000]\n",
    "        else:\n",
    "            self.images = images[60000:]\n",
    "            self.labels = labels[60000:]\n",
    "\n",
    "    def __len__(self):\n",
    "        return len(self.images)\n",
    "\n",
    "    def __getitem__(self, index):\n",
    "        \"\"\"\n",
    "        Returns a tuple of (image, label) for a given index.\n",
    "        The image is a flattened vector of 784 pixels.\n",
    "        \"\"\"\n",
    "        image = self.images[index]\n",
    "        label = self.labels[index]\n",
    "\n",
    "        # In the future, you could apply transforms here, e.g., for data augmentation\n",
    "        if self.transform:\n",
    "            image = self.transform(image)\n",
    "\n",
    "        return image, label\n"
   ]
  }
 ],
 "metadata": {
  "kernelspec": {
   "display_name": ".venv",
   "language": "python",
   "name": "python3"
  },
  "language_info": {
   "codemirror_mode": {
    "name": "ipython",
    "version": 3
   },
   "file_extension": ".py",
   "mimetype": "text/x-python",
   "name": "python",
   "nbconvert_exporter": "python",
   "pygments_lexer": "ipython3",
   "version": "3.12.2"
  }
 },
 "nbformat": 4,
 "nbformat_minor": 5
}
